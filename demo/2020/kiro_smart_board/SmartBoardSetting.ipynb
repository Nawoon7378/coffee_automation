{
 "metadata": {
  "language_info": {
   "codemirror_mode": {
    "name": "ipython",
    "version": 3
   },
   "file_extension": ".py",
   "mimetype": "text/x-python",
   "name": "python",
   "nbconvert_exporter": "python",
   "pygments_lexer": "ipython3",
   "version": "3.6.9-final"
  },
  "orig_nbformat": 2,
  "kernelspec": {
   "name": "python_defaultSpec_1598950646251",
   "display_name": "Python 3.6.9 64-bit"
  }
 },
 "nbformat": 4,
 "nbformat_minor": 2,
 "cells": [
  {
   "cell_type": "code",
   "execution_count": 75,
   "metadata": {
    "tags": []
   },
   "outputs": [
    {
     "output_type": "stream",
     "name": "stdout",
     "text": "[Info] [20-09-01 Sep:19:40] : DCP Connect: Server IP (172.16.201.165)\nConnect: Server IP (172.16.201.165)\n[0.06581362342163788, -0.4866552021297856, 0.41568393646156004, 179.9853012467107, -0.05553898037634093, 89.99392069664482]\n"
    }
   ],
   "source": [
    "from SmartBoard import *\n",
    "connect_DCP(indy)\n",
    "base_data = load_config()\n",
    "print(indy.get_task_pos())\n",
    "indy.disconnect()"
   ]
  },
  {
   "cell_type": "code",
   "execution_count": 7,
   "metadata": {},
   "outputs": [],
   "source": [
    "indy.disconnect()"
   ]
  },
  {
   "cell_type": "code",
   "execution_count": 18,
   "metadata": {
    "tags": []
   },
   "outputs": [
    {
     "output_type": "stream",
     "name": "stdout",
     "text": "[Info] [20-09-01 Sep:24:46] : DCP Connect: Server IP (172.16.201.165)\nConnect: Server IP (172.16.201.165)\nConnect: Server IP (172.16.201.165)\nConnect: Server IP (172.16.201.165)\nProgram Finished:  True\nConnect: Server IP (172.16.201.165)\nConnect: Server IP (172.16.201.165)\nConnect: Server IP (172.16.201.165)\nConnect: Server IP (172.16.201.165)\nConnect: Server IP (172.16.201.165)\nConnect: Server IP (172.16.201.165)\nConnect: Server IP (172.16.201.165)\nConnect: Server IP (172.16.201.165)\nConnect: Server IP (172.16.201.165)\nConnect: Server IP (172.16.201.165)\nConnect: Server IP (172.16.201.165)\nConnect: Server IP (172.16.201.165)\nConnect: Server IP (172.16.201.165)\nConnect: Server IP (172.16.201.165)\nConnect: Server IP (172.16.201.165)\nConnect: Server IP (172.16.201.165)\nConnect: Server IP (172.16.201.165)\nConnect: Server IP (172.16.201.165)\nConnect: Server IP (172.16.201.165)\nProgram Finished:  True\nConnect: Server IP (172.16.201.165)\nConnect: Server IP (172.16.201.165)\nConnect: Server IP (172.16.201.165)\nConnect: Server IP (172.16.201.165)\nsheet 1 {'1': 'empty_position', '2': 'sheet', '3': 'smartboard-bad', '4': 'smartboard-cloudy', '5': 'smartboard-good', '6': 'smartboard-rainy', '7': 'smartboard-snowy', '8': 'smartboard-sunny'}\nsheet 2 {'1': 'empty_position', '2': 'sheet', '3': 'smartboard-bad', '4': 'smartboard-cloudy', '5': 'smartboard-good', '6': 'smartboard-rainy', '7': 'smartboard-snowy', '8': 'smartboard-sunny'}\nsheet 3 {'1': 'empty_position', '2': 'sheet', '3': 'smartboard-bad', '4': 'smartboard-cloudy', '5': 'smartboard-good', '6': 'smartboard-rainy', '7': 'smartboard-snowy', '8': 'smartboard-sunny'}\nsheet 4 {'1': 'empty_position', '2': 'sheet', '3': 'smartboard-bad', '4': 'smartboard-cloudy', '5': 'smartboard-good', '6': 'smartboard-rainy', '7': 'smartboard-snowy', '8': 'smartboard-sunny'}\nsheet 5 {'1': 'empty_position', '2': 'sheet', '3': 'smartboard-bad', '4': 'smartboard-cloudy', '5': 'smartboard-good', '6': 'smartboard-rainy', '7': 'smartboard-snowy', '8': 'smartboard-sunny'}\nsheet 6 {'1': 'empty_position', '2': 'sheet', '3': 'smartboard-bad', '4': 'smartboard-cloudy', '5': 'smartboard-good', '6': 'smartboard-rainy', '7': 'smartboard-snowy', '8': 'smartboard-sunny'}\nsheet 7 {'1': 'empty_position', '2': 'sheet', '3': 'smartboard-bad', '4': 'smartboard-cloudy', '5': 'smartboard-good', '6': 'smartboard-rainy', '7': 'smartboard-snowy', '8': 'smartboard-sunny'}\nsheet 8 {'1': 'empty_position', '2': 'sheet', '3': 'smartboard-bad', '4': 'smartboard-cloudy', '5': 'smartboard-good', '6': 'smartboard-rainy', '7': 'smartboard-snowy', '8': 'smartboard-sunny'}\nConnect: Server IP (172.16.201.165)\nConnect: Server IP (172.16.201.165)\nConnect: Server IP (172.16.201.165)\nConnect: Server IP (172.16.201.165)\nProgram Finished:  True\nConnect: Server IP (172.16.201.165)\nConnect: Server IP (172.16.201.165)\nConnect: Server IP (172.16.201.165)\nConnect: Server IP (172.16.201.165)\nConnect: Server IP (172.16.201.165)\nConnect: Server IP (172.16.201.165)\nConnect: Server IP (172.16.201.165)\nConnect: Server IP (172.16.201.165)\nConnect: Server IP (172.16.201.165)\nConnect: Server IP (172.16.201.165)\nConnect: Server IP (172.16.201.165)\nConnect: Server IP (172.16.201.165)\nConnect: Server IP (172.16.201.165)\nConnect: Server IP (172.16.201.165)\nConnect: Server IP (172.16.201.165)\nConnect: Server IP (172.16.201.165)\nConnect: Server IP (172.16.201.165)\nConnect: Server IP (172.16.201.165)\nConnect: Server IP (172.16.201.165)\nConnect: Server IP (172.16.201.165)\nConnect: Server IP (172.16.201.165)\nProgram Finished:  True\nConnect: Server IP (172.16.201.165)\nConnect: Server IP (172.16.201.165)\nConnect: Server IP (172.16.201.165)\nConnect: Server IP (172.16.201.165)\nConnect: Server IP (172.16.201.165)\nProgram Finished:  True\nConnect: Server IP (172.16.201.165)\nConnect: Server IP (172.16.201.165)\nConnect: Server IP (172.16.201.165)\nConnect: Server IP (172.16.201.165)\nConnect: Server IP (172.16.201.165)\nProgram Finished:  True\nConnect: Server IP (172.16.201.165)\nConnect: Server IP (172.16.201.165)\nConnect: Server IP (172.16.201.165)\nConnect: Server IP (172.16.201.165)\nConnect: Server IP (172.16.201.165)\nProgram Finished:  True\nConnect: Server IP (172.16.201.165)\nConnect: Server IP (172.16.201.165)\nConnect: Server IP (172.16.201.165)\nConnect: Server IP (172.16.201.165)\nConnect: Server IP (172.16.201.165)\nProgram Finished:  True\nConnect: Server IP (172.16.201.165)\nConnect: Server IP (172.16.201.165)\nConnect: Server IP (172.16.201.165)\nProgram Finished:  True\nConnect: Server IP (172.16.201.165)\nConnect: Server IP (172.16.201.165)\nConnect: Server IP (172.16.201.165)\nConnect: Server IP (172.16.201.165)\nConnect: Server IP (172.16.201.165)\nConnect: Server IP (172.16.201.165)\nConnect: Server IP (172.16.201.165)\nConnect: Server IP (172.16.201.165)\nConnect: Server IP (172.16.201.165)\nConnect: Server IP (172.16.201.165)\nConnect: Server IP (172.16.201.165)\nConnect: Server IP (172.16.201.165)\nConnect: Server IP (172.16.201.165)\nConnect: Server IP (172.16.201.165)\nConnect: Server IP (172.16.201.165)\nProgram Finished:  True\n"
    }
   ],
   "source": [
    "connect_DCP(indy)\n",
    "# result = {}\n",
    "# detect_sequence(eye, base_data, 1, \"sunny\", True, True, result)\n",
    "# print(result)\n",
    "go_home()\n",
    "teach_board_from_sheet(eye, base_data)\n",
    "go_home()\n",
    "indy.disconnect()"
   ]
  },
  {
   "cell_type": "code",
   "execution_count": 78,
   "metadata": {
    "tags": []
   },
   "outputs": [
    {
     "output_type": "stream",
     "name": "stdout",
     "text": "[Info] [20-09-01 Sep:20:11] : DCP Connect: Server IP (172.16.201.165)\nConnect: Server IP (172.16.201.165)\nConnect: Server IP (172.16.201.165)\nConnect: Server IP (172.16.201.165)\nConnect: Server IP (172.16.201.165)\nConnect: Server IP (172.16.201.165)\nConnect: Server IP (172.16.201.165)\nConnect: Server IP (172.16.201.165)\nConnect: Server IP (172.16.201.165)\nConnect: Server IP (172.16.201.165)\nConnect: Server IP (172.16.201.165)\nConnect: Server IP (172.16.201.165)\nConnect: Server IP (172.16.201.165)\nConnect: Server IP (172.16.201.165)\nConnect: Server IP (172.16.201.165)\nConnect: Server IP (172.16.201.165)\nProgram Finished:  True\nsnow 1 {'1': 'empty_position', '2': 'sheet', '3': 'smartboard-bad', '4': 'smartboard-cloudy', '5': 'smartboard-good', '6': 'smartboard-rainy', '7': 'smartboard-snowy', '8': 'smartboard-sunny'}\nsnow 2 {'1': 'empty_position', '2': 'sheet', '3': 'smartboard-bad', '4': 'smartboard-cloudy', '5': 'smartboard-good', '6': 'smartboard-rainy', '7': 'smartboard-snowy', '8': 'smartboard-sunny'}\nsnow 3 {'1': 'empty_position', '2': 'sheet', '3': 'smartboard-bad', '4': 'smartboard-cloudy', '5': 'smartboard-good', '6': 'smartboard-rainy', '7': 'smartboard-snowy', '8': 'smartboard-sunny'}\nsnow 4 {'1': 'empty_position', '2': 'sheet', '3': 'smartboard-bad', '4': 'smartboard-cloudy', '5': 'smartboard-good', '6': 'smartboard-rainy', '7': 'smartboard-snowy', '8': 'smartboard-sunny'}\nsnow 5 {'1': 'empty_position', '2': 'sheet', '3': 'smartboard-bad', '4': 'smartboard-cloudy', '5': 'smartboard-good', '6': 'smartboard-rainy', '7': 'smartboard-snowy', '8': 'smartboard-sunny'}\nsnow 6 {'1': 'empty_position', '2': 'sheet', '3': 'smartboard-bad', '4': 'smartboard-cloudy', '5': 'smartboard-good', '6': 'smartboard-rainy', '7': 'smartboard-snowy', '8': 'smartboard-sunny'}\nsnow 7 {'1': 'empty_position', '2': 'sheet', '3': 'smartboard-bad', '4': 'smartboard-cloudy', '5': 'smartboard-good', '6': 'smartboard-rainy', '7': 'smartboard-snowy', '8': 'smartboard-sunny'}\nsnow 8 {'1': 'empty_position', '2': 'sheet', '3': 'smartboard-bad', '4': 'smartboard-cloudy', '5': 'smartboard-good', '6': 'smartboard-rainy', '7': 'smartboard-snowy', '8': 'smartboard-sunny'}\nConnect: Server IP (172.16.201.165)\nConnect: Server IP (172.16.201.165)\nConnect: Server IP (172.16.201.165)\nConnect: Server IP (172.16.201.165)\nProgram Finished:  True\n[-0.02518000497088803, -0.6156278665521644, 0.014942480363900557, -0.44214752684494674, 0.18673906348951283, -60.47386698582539]\nConnect: Server IP (172.16.201.165)\nConnect: Server IP (172.16.201.165)\nConnect: Server IP (172.16.201.165)\nConnect: Server IP (172.16.201.165)\nConnect: Server IP (172.16.201.165)\nConnect: Server IP (172.16.201.165)\nConnect: Server IP (172.16.201.165)\nConnect: Server IP (172.16.201.165)\nConnect: Server IP (172.16.201.165)\nConnect: Server IP (172.16.201.165)\nConnect: Server IP (172.16.201.165)\nProgram Finished:  True\nConnect: Server IP (172.16.201.165)\nConnect: Server IP (172.16.201.165)\nConnect: Server IP (172.16.201.165)\nConnect: Server IP (172.16.201.165)\nConnect: Server IP (172.16.201.165)\nConnect: Server IP (172.16.201.165)\nConnect: Server IP (172.16.201.165)\nConnect: Server IP (172.16.201.165)\nConnect: Server IP (172.16.201.165)\nConnect: Server IP (172.16.201.165)\nConnect: Server IP (172.16.201.165)\nConnect: Server IP (172.16.201.165)\nConnect: Server IP (172.16.201.165)\nConnect: Server IP (172.16.201.165)\nConnect: Server IP (172.16.201.165)\nConnect: Server IP (172.16.201.165)\nConnect: Server IP (172.16.201.165)\nConnect: Server IP (172.16.201.165)\nConnect: Server IP (172.16.201.165)\nConnect: Server IP (172.16.201.165)\nConnect: Server IP (172.16.201.165)\nProgram Finished:  True\n{'pose': [-0.02518000497088803, -0.6156278665521644, 0.014942480363900557, -0.44214752684494674, 0.18673906348951283, -60.47386698582539]}\n"
    }
   ],
   "source": [
    "connect_DCP(indy)\n",
    "result = {}\n",
    "# detect_sequence(eye, base_data, 1, \"empty_position\", False, True, result)\n",
    "# detect_sequence(eye, base_data, 4, \"good\", True, True, result)\n",
    "detect_sequence(eye, base_data, 1, \"snow\", True, True, result)\n",
    "print(result) \n",
    "indy.disconnect()"
   ]
  },
  {
   "cell_type": "code",
   "execution_count": 76,
   "metadata": {
    "tags": []
   },
   "outputs": [
    {
     "output_type": "stream",
     "name": "stdout",
     "text": "[Info] [20-09-01 Sep:19:44] : DCP Connect: Server IP (172.16.201.165)\nConnect: Server IP (172.16.201.165)\nConnect: Server IP (172.16.201.165)\nConnect: Server IP (172.16.201.165)\nProgram Finished:  True\nConnect: Server IP (172.16.201.165)\nConnect: Server IP (172.16.201.165)\nConnect: Server IP (172.16.201.165)\nConnect: Server IP (172.16.201.165)\nConnect: Server IP (172.16.201.165)\nConnect: Server IP (172.16.201.165)\nConnect: Server IP (172.16.201.165)\nConnect: Server IP (172.16.201.165)\nConnect: Server IP (172.16.201.165)\nConnect: Server IP (172.16.201.165)\nConnect: Server IP (172.16.201.165)\nConnect: Server IP (172.16.201.165)\nConnect: Server IP (172.16.201.165)\nConnect: Server IP (172.16.201.165)\nConnect: Server IP (172.16.201.165)\nConnect: Server IP (172.16.201.165)\nConnect: Server IP (172.16.201.165)\nProgram Finished:  True\nConnect: Server IP (172.16.201.165)\nConnect: Server IP (172.16.201.165)\nConnect: Server IP (172.16.201.165)\nConnect: Server IP (172.16.201.165)\nConnect: Server IP (172.16.201.165)\nProgram Finished:  True\nConnect: Server IP (172.16.201.165)\nConnect: Server IP (172.16.201.165)\nConnect: Server IP (172.16.201.165)\nConnect: Server IP (172.16.201.165)\nConnect: Server IP (172.16.201.165)\nProgram Finished:  True\nConnect: Server IP (172.16.201.165)\nConnect: Server IP (172.16.201.165)\nConnect: Server IP (172.16.201.165)\nConnect: Server IP (172.16.201.165)\nConnect: Server IP (172.16.201.165)\nProgram Finished:  True\nConnect: Server IP (172.16.201.165)\nConnect: Server IP (172.16.201.165)\nConnect: Server IP (172.16.201.165)\nConnect: Server IP (172.16.201.165)\nConnect: Server IP (172.16.201.165)\nProgram Finished:  True\nConnect: Server IP (172.16.201.165)\nConnect: Server IP (172.16.201.165)\nConnect: Server IP (172.16.201.165)\nConnect: Server IP (172.16.201.165)\nConnect: Server IP (172.16.201.165)\nConnect: Server IP (172.16.201.165)\nConnect: Server IP (172.16.201.165)\nConnect: Server IP (172.16.201.165)\nConnect: Server IP (172.16.201.165)\nConnect: Server IP (172.16.201.165)\nConnect: Server IP (172.16.201.165)\nConnect: Server IP (172.16.201.165)\nConnect: Server IP (172.16.201.165)\nConnect: Server IP (172.16.201.165)\nConnect: Server IP (172.16.201.165)\nConnect: Server IP (172.16.201.165)\nConnect: Server IP (172.16.201.165)\nProgram Finished:  True\n"
    }
   ],
   "source": [
    "connect_DCP(indy)\n",
    "go_home()\n",
    "# pnp_on_board(base_data, 0, 0, 4, False)\n",
    "pnp_on_board(base_data, 0, 1, 1, False)\n",
    "go_home()\n",
    "indy.disconnect()"
   ]
  },
  {
   "cell_type": "code",
   "execution_count": 7,
   "metadata": {
    "tags": []
   },
   "outputs": [
    {
     "output_type": "stream",
     "name": "stdout",
     "text": "[Info] [20-09-01 Sep:58:46] : DCP Connect: Server IP (172.16.201.165)\nConnect: Server IP (172.16.201.165)\nConnect: Server IP (172.16.201.165)\nConnect: Server IP (172.16.201.165)\nConnect: Server IP (172.16.201.165)\n"
    }
   ],
   "source": [
    "connect_DCP(indy)\n",
    "open_hand(indy)\n",
    "hold_hand(indy)\n",
    "indy.disconnect()"
   ]
  }
 ]
}