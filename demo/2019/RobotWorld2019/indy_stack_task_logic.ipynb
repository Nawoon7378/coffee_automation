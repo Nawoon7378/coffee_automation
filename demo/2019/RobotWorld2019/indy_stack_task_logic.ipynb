{
 "cells": [
  {
   "cell_type": "code",
   "execution_count": 1,
   "metadata": {},
   "outputs": [],
   "source": [
    "import copy\n",
    "import json\n",
    "import math\n",
    "import numpy as np\n",
    "import pprint as pp\n",
    "import random\n",
    "import indyconfig\n",
    "import indyjson"
   ]
  },
  {
   "cell_type": "markdown",
   "metadata": {},
   "source": [
    "### Connect to Indy by IndyDCP"
   ]
  },
  {
   "cell_type": "code",
   "execution_count": 2,
   "metadata": {},
   "outputs": [],
   "source": [
    "import indydcp_client as client"
   ]
  },
  {
   "cell_type": "code",
   "execution_count": 3,
   "metadata": {},
   "outputs": [
    {
     "name": "stdout",
     "output_type": "stream",
     "text": [
      "Connect: Bind IP (192.168.3.130), Server IP (192.168.3.129)\n"
     ]
    },
    {
     "data": {
      "text/plain": [
       "True"
      ]
     },
     "execution_count": 3,
     "metadata": {},
     "output_type": "execute_result"
    }
   ],
   "source": [
    "bind_ip   = \"192.168.3.5\"\n",
    "server_ip = \"192.168.3.105\"\n",
    "name = \"NRMK-Indy7\"\n",
    "indy = client.IndyDCPClient(bind_ip, server_ip, name)\n",
    "indy.connect()"
   ]
  },
  {
   "cell_type": "code",
   "execution_count": 4,
   "metadata": {},
   "outputs": [],
   "source": [
    "indy.go_home()\n",
    "# indy.go_zero()\n",
    "# indy.get_joint_pos()"
   ]
  },
  {
   "cell_type": "markdown",
   "metadata": {},
   "source": [
    "### Set Configuration"
   ]
  },
  {
   "cell_type": "code",
   "execution_count": 5,
   "metadata": {},
   "outputs": [],
   "source": [
    "# Set Workspace Configuration\n",
    "# 따로 object space, target space 지정해 주지 않으면, 같은 공간으로 설정됨\n",
    "workspace = indyconfig.WorkSpace()\n",
    "\n",
    "# Set Object Configuration\n",
    "# STACK_TASK = 0\n",
    "# PALLETIZE_TASK = 1\n",
    "obj_config = indyconfig.TaskObjConfig(workspace,indyconfig.STACK_TASK, obj_num = 3, class_num = 2)\n",
    "\n",
    "# command_config 객체 생성\n",
    "command_config = indyjson.CommandConfig()\n",
    "\n",
    "# json 파일 생성하는 객체 생성\n",
    "JsonPro = indyjson.IndyMakeJsonProgram()"
   ]
  },
  {
   "cell_type": "code",
   "execution_count": 6,
   "metadata": {},
   "outputs": [
    {
     "name": "stdout",
     "output_type": "stream",
     "text": [
      "[{'class_': 1, 'pos_': [0.4538226931408202, -0.29320397064796283, 0.46]},\n",
      " {'class_': 2, 'pos_': [0.41053120815335453, -0.23480499753115064, 0.46]},\n",
      " {'class_': 1, 'pos_': [0.48570094992972807, -0.2621793430292997, 0.46]}]\n",
      "[[0.4538226931408202, -0.29320397064796283, 0.46],\n",
      " [0.41053120815335453, -0.23480499753115064, 0.46]]\n"
     ]
    }
   ],
   "source": [
    "pp.pprint(obj_config.obj)\n",
    "pp.pprint(obj_config.tar_pos)"
   ]
  },
  {
   "cell_type": "markdown",
   "metadata": {},
   "source": [
    "### Stacking Task Logic"
   ]
  },
  {
   "cell_type": "code",
   "execution_count": 7,
   "metadata": {},
   "outputs": [
    {
     "name": "stdout",
     "output_type": "stream",
     "text": [
      "[0.4538226931408202, -0.29320397064796283, 0.46, 0, 180, 0]\n",
      "[0.4538226931408202, -0.29320397064796283, 0.46, 0, 180, 0]\n",
      "[0.4538226931408202, -0.29320397064796283, 0.46, 0, 180, 0]\n",
      "1\n",
      "[0.4538226931408202, -0.29320397064796283, 0.46, 0, 180, 0]\n",
      "[0.41053120815335453, -0.23480499753115064, 0.46, 0, 180, 0]\n",
      "[0.41053120815335453, -0.23480499753115064, 0.46, 0, 180, 0]\n",
      "[0.41053120815335453, -0.23480499753115064, 0.46, 0, 180, 0]\n",
      "1\n",
      "[0.41053120815335453, -0.23480499753115064, 0.46, 0, 180, 0]\n",
      "[0.48570094992972807, -0.2621793430292997, 0.46, 0, 180, 0]\n",
      "[0.48570094992972807, -0.2621793430292997, 0.46, 0, 180, 0]\n",
      "[0.4538226931408202, -0.29320397064796283, 0.46, 0, 180, 0]\n",
      "2\n",
      "[0.4538226931408202, -0.29320397064796283, 0.46, 0, 180, 0]\n"
     ]
    }
   ],
   "source": [
    "def move_command(obj_config, command_config, JsonPro, pos_xyz) :\n",
    "    command_config.create_radnom_command_config()\n",
    "    pos_xyz = copy.deepcopy(pos_xyz)\n",
    "    pos_xyz.extend([0,180,0])\n",
    "    command_config.p = pos_xyz\n",
    "    ##joint 모드일 경우 q도 추가하는 구문 만들어야함 : 이때는 p->q로 만드는 함수 필요\n",
    "    JsonPro.add_seq(command_config)\n",
    "\n",
    "\n",
    "# pick & place json파일로 만드는 함수 구현 해야함!(IndyJsonMake함수에서 ㄱㄱㄱ)\n",
    "def pick_command():\n",
    "    pass\n",
    "\n",
    "def place_command():\n",
    "    pass\n",
    "\n",
    "##singularity problem생기면? 어떡하지? frame move만 구현해뒀는데 joint move도 쓸 수 있게 구현\n",
    "## 이경우에 blend가 의미가 있나?\n",
    "\n",
    "for i, obj_ in enumerate(obj_config.obj) :\n",
    "    for j in range(4):\n",
    "        if j == 0 :# obj로 가기\n",
    "            move_command(obj_config,command_config, JsonPro, obj_['pos_'])\n",
    "\n",
    "        elif j == 1: #pick하기(놓고 다시 위치로 돌아오는 것 까지)\n",
    "            #obj까지 내려가기\n",
    "            pos_down = copy.deepcopy(obj_['pos_'])\n",
    "            pos_down[-1] = indyconfig.OBJ_POS_Z+indyconfig.OBJ_SIZE_Z\n",
    "            move_command(obj_config,command_config, JsonPro, pos_down )\n",
    "            \n",
    "            #pick\n",
    "            pick_command()\n",
    "            \n",
    "            #다시 올라오기\n",
    "            move_command(obj_config,command_config, JsonPro, obj_['pos_'] )\n",
    "            \n",
    "        elif j == 2: #target위치로 가기\n",
    "            move_command(obj_config, command_config, JsonPro, obj_config.tar_pos[obj_['class_']-1] )\n",
    "            \n",
    "        else : #place하기\n",
    "            #제일 높은 obj까지 내려가기\n",
    "            n=0\n",
    "            for k in range(i+1):\n",
    "                if obj_['class_'] == obj_config.obj[k]['class_'] :\n",
    "                    n +=1\n",
    "            print(n)\n",
    "            pos_down = copy.deepcopy(obj_config.tar_pos[obj_['class_']-1])\n",
    "            pos_down[-1] = indyconfig.OBJ_POS_Z + (indyconfig.OBJ_SIZE_Z * n)\n",
    "            move_command(obj_config, command_config, JsonPro, pos_down )\n",
    "            \n",
    "            #pick\n",
    "            place_command()\n",
    "            \n",
    "            #다시 올라오기\n",
    "            move_command(obj_config, command_config, JsonPro, obj_config.tar_pos[obj_['class_']-1] )\n",
    "        print(command_config.p)"
   ]
  },
  {
   "cell_type": "code",
   "execution_count": 8,
   "metadata": {},
   "outputs": [],
   "source": [
    "indy.set_and_start_json_program(json.dumps(JsonPro.JsonPro))"
   ]
  },
  {
   "cell_type": "code",
   "execution_count": 9,
   "metadata": {},
   "outputs": [],
   "source": [
    "with open('stack_test.7.json', 'w') as fp:\n",
    "    json.dump(JsonPro.JsonPro, fp)"
   ]
  },
  {
   "cell_type": "code",
   "execution_count": 10,
   "metadata": {},
   "outputs": [
    {
     "ename": "KeyboardInterrupt",
     "evalue": "",
     "output_type": "error",
     "traceback": [
      "\u001b[1;31m---------------------------------------------------------------------------\u001b[0m",
      "\u001b[1;31mtimeout\u001b[0m                                   Traceback (most recent call last)",
      "\u001b[1;32m~\\Anaconda3\\envs\\NRMK\\lib\\site-packages\\IPython\\core\\interactiveshell.py\u001b[0m in \u001b[0;36mrun_code\u001b[1;34m(self, code_obj, result, async_)\u001b[0m\n\u001b[0;32m   3324\u001b[0m                 \u001b[1;32melse\u001b[0m\u001b[1;33m:\u001b[0m\u001b[1;33m\u001b[0m\u001b[1;33m\u001b[0m\u001b[0m\n\u001b[1;32m-> 3325\u001b[1;33m                     \u001b[0mexec\u001b[0m\u001b[1;33m(\u001b[0m\u001b[0mcode_obj\u001b[0m\u001b[1;33m,\u001b[0m \u001b[0mself\u001b[0m\u001b[1;33m.\u001b[0m\u001b[0muser_global_ns\u001b[0m\u001b[1;33m,\u001b[0m \u001b[0mself\u001b[0m\u001b[1;33m.\u001b[0m\u001b[0muser_ns\u001b[0m\u001b[1;33m)\u001b[0m\u001b[1;33m\u001b[0m\u001b[1;33m\u001b[0m\u001b[0m\n\u001b[0m\u001b[0;32m   3326\u001b[0m             \u001b[1;32mfinally\u001b[0m\u001b[1;33m:\u001b[0m\u001b[1;33m\u001b[0m\u001b[1;33m\u001b[0m\u001b[0m\n",
      "\u001b[1;32m<ipython-input-10-bf0f93c8d188>\u001b[0m in \u001b[0;36m<module>\u001b[1;34m\u001b[0m\n\u001b[1;32m----> 1\u001b[1;33m \u001b[0mindy\u001b[0m\u001b[1;33m.\u001b[0m\u001b[0mset_and_start_json_program\u001b[0m\u001b[1;33m(\u001b[0m\u001b[0mjson\u001b[0m\u001b[1;33m.\u001b[0m\u001b[0mdumps\u001b[0m\u001b[1;33m(\u001b[0m\u001b[0mJsonPro\u001b[0m\u001b[1;33m.\u001b[0m\u001b[0mJsonPro\u001b[0m\u001b[1;33m)\u001b[0m\u001b[1;33m)\u001b[0m\u001b[1;33m\u001b[0m\u001b[1;33m\u001b[0m\u001b[0m\n\u001b[0m",
      "\u001b[1;32m~\\jupyter\\indydcp_client.py\u001b[0m in \u001b[0;36mset_and_start_json_program\u001b[1;34m(self, json_string)\u001b[0m\n\u001b[0;32m   1138\u001b[0m                                       \u001b[0mreq_ext_data\u001b[0m\u001b[1;33m,\u001b[0m\u001b[1;33m\u001b[0m\u001b[1;33m\u001b[0m\u001b[0m\n\u001b[1;32m-> 1139\u001b[1;33m                                       req_ext_data_size)\n\u001b[0m\u001b[0;32m   1140\u001b[0m \u001b[1;33m\u001b[0m\u001b[0m\n",
      "\u001b[1;32m~\\jupyter\\indydcp_client.py\u001b[0m in \u001b[0;36m_handle_extended_command\u001b[1;34m(self, ext_cmd, req_ext_data, req_ext_data_size)\u001b[0m\n\u001b[0;32m    623\u001b[0m         \u001b[0mres_header\u001b[0m \u001b[1;33m=\u001b[0m \u001b[0mHeaderCommand\u001b[0m\u001b[1;33m(\u001b[0m\u001b[1;33m)\u001b[0m\u001b[1;33m\u001b[0m\u001b[1;33m\u001b[0m\u001b[0m\n\u001b[1;32m--> 624\u001b[1;33m         \u001b[0mread_buffer\u001b[0m \u001b[1;33m=\u001b[0m \u001b[0mself\u001b[0m\u001b[1;33m.\u001b[0m\u001b[0m_recv_message\u001b[0m\u001b[1;33m(\u001b[0m\u001b[0mread_buffer\u001b[0m\u001b[1;33m,\u001b[0m \u001b[0mSIZE_HEADER_COMMAND\u001b[0m\u001b[1;33m)\u001b[0m\u001b[1;33m\u001b[0m\u001b[1;33m\u001b[0m\u001b[0m\n\u001b[0m\u001b[0;32m    625\u001b[0m         \u001b[0mmemmove\u001b[0m\u001b[1;33m(\u001b[0m\u001b[0mres_header\u001b[0m\u001b[1;33m.\u001b[0m\u001b[0mbyte\u001b[0m\u001b[1;33m,\u001b[0m \u001b[0mread_buffer\u001b[0m\u001b[1;33m,\u001b[0m \u001b[0mSIZE_HEADER_COMMAND\u001b[0m\u001b[1;33m)\u001b[0m\u001b[1;33m\u001b[0m\u001b[1;33m\u001b[0m\u001b[0m\n",
      "\u001b[1;32m~\\jupyter\\indydcp_client.py\u001b[0m in \u001b[0;36m_recv_message\u001b[1;34m(self, buf, size)\u001b[0m\n\u001b[0;32m    476\u001b[0m             \u001b[0mself\u001b[0m\u001b[1;33m.\u001b[0m\u001b[0msock_fd\u001b[0m\u001b[1;33m.\u001b[0m\u001b[0msettimeout\u001b[0m\u001b[1;33m(\u001b[0m\u001b[0mself\u001b[0m\u001b[1;33m.\u001b[0m\u001b[0mtime_out\u001b[0m\u001b[1;33m)\u001b[0m\u001b[1;33m\u001b[0m\u001b[1;33m\u001b[0m\u001b[0m\n\u001b[1;32m--> 477\u001b[1;33m             \u001b[0mchunk\u001b[0m \u001b[1;33m=\u001b[0m \u001b[0mself\u001b[0m\u001b[1;33m.\u001b[0m\u001b[0msock_fd\u001b[0m\u001b[1;33m.\u001b[0m\u001b[0mrecv\u001b[0m\u001b[1;33m(\u001b[0m\u001b[0msize\u001b[0m \u001b[1;33m-\u001b[0m \u001b[0mbytes_recd\u001b[0m\u001b[1;33m)\u001b[0m\u001b[1;33m\u001b[0m\u001b[1;33m\u001b[0m\u001b[0m\n\u001b[0m\u001b[0;32m    478\u001b[0m             \u001b[1;32mif\u001b[0m \u001b[0mchunk\u001b[0m \u001b[1;33m==\u001b[0m \u001b[1;34mb''\u001b[0m\u001b[1;33m:\u001b[0m\u001b[1;33m\u001b[0m\u001b[1;33m\u001b[0m\u001b[0m\n",
      "\u001b[1;31mtimeout\u001b[0m: timed out",
      "\nDuring handling of the above exception, another exception occurred:\n",
      "\u001b[1;31mKeyboardInterrupt\u001b[0m                         Traceback (most recent call last)",
      "\u001b[1;31mKeyboardInterrupt\u001b[0m: "
     ]
    }
   ],
   "source": []
  },
  {
   "cell_type": "code",
   "execution_count": null,
   "metadata": {},
   "outputs": [],
   "source": [
    "indy.go_home()"
   ]
  },
  {
   "cell_type": "code",
   "execution_count": null,
   "metadata": {},
   "outputs": [],
   "source": []
  },
  {
   "cell_type": "code",
   "execution_count": null,
   "metadata": {},
   "outputs": [],
   "source": []
  },
  {
   "cell_type": "markdown",
   "metadata": {},
   "source": [
    "##  Test"
   ]
  },
  {
   "cell_type": "code",
   "execution_count": 11,
   "metadata": {},
   "outputs": [
    {
     "data": {
      "text/plain": [
       "'{\"program\": [{\"type\": 999, \"enable\": true, \"palletInfo\": [], \"toolInfo\": [], \"collisionPolicy\": {\"time\": 2, \"policy\": 0}, \"pId\": 0, \"id\": 1}, {\"type\": 2, \"varList\": [], \"enable\": true, \"pId\": 0, \"id\": 2}, {\"type\": 103, \"enable\": true, \"pId\": 0, \"name\": \"testtest\", \"id\": 3}], \"moveList\": [{\"tcp\": [0, 0, 0, 0, 0, 0], \"type\": 103, \"blendOpt\": {\"constant\": false}, \"boundary\": {\"accLevel\": 3, \"velLevel\": 3}, \"offset\": {\"pos\": [0, 0, 0], \"type\": 0}, \"refFrame\": {\"tref\": [0, 0, 0, 0, 0, 0], \"type\": 1}, \"wpList\": [{\"t\": 2, \"id\": 0}], \"intpl\": 1, \"name\": \"testtest\"}], \"wpList\": [{\"type\": 0, \"name\": \"\", \"p\": [0.53541, 0.018198, 0.460146, 0, 180, 0], \"tBase\": 0, \"q\": [22.319669, -20.003301, -75.687677, 0, -84.309021, 22.319668], \"stopBlend\": true, \"blendRadius\": 0, \"id\": 0}]}'"
      ]
     },
     "execution_count": 11,
     "metadata": {},
     "output_type": "execute_result"
    }
   ],
   "source": [
    "file_name = 'testtest.7.json'\n",
    "\n",
    "with open(file_name) as json_file:\n",
    "    json_data = json.load(json_file)\n",
    "# pp.pprint(json_data)\n",
    "testtest= json.dumps(json_data)\n",
    "testtest"
   ]
  },
  {
   "cell_type": "code",
   "execution_count": 12,
   "metadata": {},
   "outputs": [],
   "source": [
    "indy.set_and_start_json_program(testtest)"
   ]
  },
  {
   "cell_type": "code",
   "execution_count": 15,
   "metadata": {},
   "outputs": [],
   "source": [
    "p = [0.53541, 0.018198, 0.460146, 0, 180, 0]\n",
    "q = [22.319669, -20.003301, -75.687677, 0, -84.309021, 22.319668]"
   ]
  },
  {
   "cell_type": "code",
   "execution_count": 16,
   "metadata": {},
   "outputs": [
    {
     "data": {
      "text/plain": [
       "'{\"program\": [{\"type\": 999, \"enable\": true, \"palletInfo\": [], \"toolInfo\": [], \"collisionPolicy\": {\"time\": 2, \"policy\": 0}, \"pId\": 0, \"id\": 1}, {\"type\": 2, \"varList\": [], \"enable\": true, \"pId\": 0, \"id\": 2}, {\"type\": 103, \"enable\": true, \"pId\": 0, \"name\": \"Frame_move_to_VELO3.0_01\", \"id\": 3}], \"moveList\": [{\"tcp\": [0, 0, 0, 0, 0, 0], \"type\": 103, \"blendOpt\": {\"constant\": false}, \"boundary\": {\"accLevel\": 3, \"velLevel\": 3}, \"offset\": {\"pos\": [0, 0, 0], \"type\": 0}, \"refFrame\": {\"tref\": [0, 0, 0, 0, 0, 0], \"type\": 1}, \"wpList\": [{\"t\": 2, \"id\": 0}], \"intpl\": 1, \"name\": \"Frame_move_to_VELO3.0_01\"}], \"wpList\": [{\"type\": 0, \"name\": \"\", \"p\": [0.53541, 0.018198, 0.460146, 0, 180, 0], \"tBase\": 0, \"q\": [22.319669, -20.003301, -75.687677, 0, -84.309021, 22.319668], \"stopBlend\": true, \"blendRadius\": 0, \"id\": 0}]}'"
      ]
     },
     "execution_count": 16,
     "metadata": {},
     "output_type": "execute_result"
    }
   ],
   "source": [
    "command_config__= indyjson.CommandConfig(p= p, q = q, intpl = 1)\n",
    "JsonPro__        = indyjson.IndyMakeJsonProgram()\n",
    "JsonPro__.add_seq(command_config__)\n",
    "make = json.dumps(JsonPro__.JsonPro)\n",
    "make"
   ]
  },
  {
   "cell_type": "code",
   "execution_count": 17,
   "metadata": {},
   "outputs": [],
   "source": [
    "indy.set_and_start_json_program(make)"
   ]
  },
  {
   "cell_type": "code",
   "execution_count": null,
   "metadata": {},
   "outputs": [],
   "source": []
  }
 ],
 "metadata": {
  "kernelspec": {
   "display_name": "Python 3",
   "language": "python",
   "name": "python3"
  },
  "language_info": {
   "codemirror_mode": {
    "name": "ipython",
    "version": 3
   },
   "file_extension": ".py",
   "mimetype": "text/x-python",
   "name": "python",
   "nbconvert_exporter": "python",
   "pygments_lexer": "ipython3",
   "version": "3.6.9"
  },
  "pycharm": {
   "stem_cell": {
    "cell_type": "raw",
    "source": [],
    "metadata": {
     "collapsed": false
    }
   }
  }
 },
 "nbformat": 4,
 "nbformat_minor": 2
}