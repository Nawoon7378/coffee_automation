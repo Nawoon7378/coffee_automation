{
 "cells": [
  {
   "cell_type": "markdown",
   "metadata": {},
   "source": [
    "# Connect to Indy by IndyDCP\n",
    "\n",
    "* **robot_ip**: IP address of robot (actually, STEP in IndyCB)\n",
    "* **name**: string represents robot model\n",
    "    * Indy7: \"NRMK-Indy7\"\n",
    "    * IndyRP2: \"NRMK-IndyRP2\"\n",
    "    \n"
   ]
  },
  {
   "cell_type": "code",
   "execution_count": null,
   "metadata": {
    "pycharm": {
     "is_executing": false
    },
    "scrolled": true
   },
   "outputs": [],
   "source": [
    "from indy_utils import indydcp_client as client\n",
    "from indy_utils.indy_program_maker import JsonProgramComponent\n",
    "\n",
    "import json\n",
    "import threading\n",
    "from time import sleep\n",
    "\n",
    "# Set robot (server) IP \n",
    "robot_ip = \"192.168.0.111\"  # Robot (Indy) IP\n",
    "\n",
    "# Set robot name\n",
    "# name = \"NRMK-Indy7\"  # Robot name (Indy7)\n",
    "name = \"NRMK-Indy3\"  # Robot name (IndyRP2)\n",
    "\n",
    "# Create class object\n",
    "indy = client.IndyDCPClient(robot_ip, name)"
   ]
  },
  {
   "cell_type": "code",
   "execution_count": null,
   "metadata": {},
   "outputs": [],
   "source": [
    "# Connect to robot\n",
    "indy.connect()\n",
    "\n",
    "# Disconnect with robot\n",
    "# recommanded for finishing program properly\n",
    "indy.disconnect()"
   ]
  },
  {
   "cell_type": "markdown",
   "metadata": {},
   "source": [
    "# Examples of JSON Program maker using extended IndyDCP"
   ]
  },
  {
   "cell_type": "markdown",
   "metadata": {},
   "source": [
    "## Make program example-0: initial and terminal conditions of a program\n",
    "### Initial statement\n",
    "* **prog = JsonProgramComponent(policy=0, resume_time=2)**\n",
    "    * policy: collision policy (0: keep pause, 1: resume after 'resume_time', 2: stop program, 3: no collision detection)\n",
    "    \n",
    "### Program body\n",
    "* **prog.add_move_home()** : go to home position\n",
    "* **prog.add_move_zero()** : go to zero position\n",
    "\n",
    "### Terminal statement\n",
    "* **prog_json = prog.program_done()**  : finish to make program, and return JSON string to be sent to 'indy'\n",
    "* **indy.set_and_start_json_program(prog_json)** : start the made program\n",
    "* **indy.set_and_start_json_program(prog.program_done())**  : more simple way"
   ]
  },
  {
   "cell_type": "code",
   "execution_count": null,
   "metadata": {
    "pycharm": {
     "is_executing": false
    },
    "scrolled": true
   },
   "outputs": [],
   "source": [
    "indy.connect()\n",
    "\n",
    "indy.set_joint_vel_level(3)\n",
    "\n",
    "prog = JsonProgramComponent(policy=1, resume_time=2)  # Init. prgoram\n",
    "\n",
    "prog.add_move_home()\n",
    "prog.add_move_zero()\n",
    "prog.add_move_home()\n",
    "\n",
    "prog_json = prog.program_done()    # Program end\n",
    "\n",
    "indy.set_and_start_json_program(prog_json) # Execute program\n",
    "\n",
    "indy.disconnect()"
   ]
  },
  {
   "cell_type": "code",
   "execution_count": null,
   "metadata": {
    "scrolled": true
   },
   "outputs": [],
   "source": [
    "indy.connect()\n",
    "\n",
    "indy.set_joint_vel_level(3)\n",
    "\n",
    "prog = JsonProgramComponent(policy=1, resume_time=2)  # Init. prgoram\n",
    "\n",
    "prog.add_move_home()\n",
    "prog.add_endtool_do(type=0, value=0)\n",
    "prog.add_move_zero()\n",
    "prog.add_wait(1)\n",
    "prog.add_move_home()\n",
    "prog.add_endtool_do(type=0, value=1)\n",
    "\n",
    "prog_json = prog.program_done()\n",
    "\n",
    "indy.set_and_start_json_program(prog_json) # Execute program\n",
    "\n",
    "indy.disconnect()"
   ]
  },
  {
   "cell_type": "markdown",
   "metadata": {},
   "source": [
    "## Make program example-0: get teaching positions (joint/task) and save it\n",
    "* __indy.get_joint_pos()__  : get current joint angle (degree)\n",
    "* __indy.get_task_pos()__  : get current task-space pose (meter, and degree)"
   ]
  },
  {
   "cell_type": "code",
   "execution_count": null,
   "metadata": {},
   "outputs": [],
   "source": [
    "indy.connect()"
   ]
  },
  {
   "cell_type": "code",
   "execution_count": null,
   "metadata": {},
   "outputs": [],
   "source": [
    "print(indy.get_joint_pos())\n",
    "print(indy.get_task_pos())"
   ]
  },
  {
   "cell_type": "markdown",
   "metadata": {},
   "source": [
    "* **indy.update_teaching_data(file_name, waypoint_name, position)**\n",
    "    * Add teaching points and save it as a file\n",
    "    * You MUST properly choose joint_move or task_move.\n",
    "    * We recommand prefix 'j_' or 't_' to represent joint and task"
   ]
  },
  {
   "cell_type": "code",
   "execution_count": null,
   "metadata": {},
   "outputs": [],
   "source": [
    "file_name = 'test.json'\n",
    "teach_config = indy.update_teaching_data(file_name, 'j_wp1', indy.get_joint_pos())\n",
    "teach_config = indy.update_teaching_data(file_name, 't_wp1', indy.get_task_pos())"
   ]
  },
  {
   "cell_type": "code",
   "execution_count": null,
   "metadata": {},
   "outputs": [],
   "source": [
    "teach_config = indy.update_teaching_data(file_name, 'j_wp2', indy.get_joint_pos())\n",
    "teach_config = indy.update_teaching_data(file_name, 't_wp2', indy.get_task_pos())"
   ]
  },
  {
   "cell_type": "code",
   "execution_count": null,
   "metadata": {},
   "outputs": [],
   "source": [
    "teach_config = indy.update_teaching_data(file_name, 'j_wp3', indy.get_joint_pos())\n",
    "teach_config = indy.update_teaching_data(file_name, 't_wp3', indy.get_task_pos())"
   ]
  },
  {
   "cell_type": "code",
   "execution_count": null,
   "metadata": {},
   "outputs": [],
   "source": [
    "teach_config = indy.update_teaching_data(file_name, 'j_wp4', indy.get_joint_pos())\n",
    "teach_config = indy.update_teaching_data(file_name, 't_wp4', indy.get_task_pos())"
   ]
  },
  {
   "cell_type": "code",
   "execution_count": null,
   "metadata": {},
   "outputs": [],
   "source": [
    "indy.disconnect()"
   ]
  },
  {
   "cell_type": "markdown",
   "metadata": {},
   "source": [
    "## Make program example-1: Joint move with several waypoints\n",
    "### Arguments: \n",
    "* Robot velocity level: 1 - 9\n",
    "* Joint move blending radius: 3-27 [deg]"
   ]
  },
  {
   "cell_type": "code",
   "execution_count": null,
   "metadata": {
    "scrolled": true
   },
   "outputs": [],
   "source": [
    "file_name = 'test.json'\n",
    "teach_config = indy.load_teaching_data(file_name)\n",
    "\n",
    "teach_config"
   ]
  },
  {
   "cell_type": "code",
   "execution_count": null,
   "metadata": {},
   "outputs": [],
   "source": [
    "j_wp1 = teach_config['j_wp1']\n",
    "j_wp2 = teach_config['j_wp2']\n",
    "j_wp3 = teach_config['j_wp3']\n",
    "j_wp4 = teach_config['j_wp4']\n",
    "\n",
    "t_wp1 = teach_config['t_wp1']\n",
    "t_wp2 = teach_config['t_wp2']\n",
    "t_wp3 = teach_config['t_wp3']\n",
    "t_wp4 = teach_config['t_wp4']"
   ]
  },
  {
   "cell_type": "code",
   "execution_count": null,
   "metadata": {
    "scrolled": true
   },
   "outputs": [],
   "source": [
    "# Joint Move\n",
    "indy.connect()\n",
    "\n",
    "vel = 5\n",
    "blend = 20\n",
    "\n",
    "prog = JsonProgramComponent(policy=0, resume_time=2)                \n",
    "prog.add_joint_move_to(j_wp1, vel=vel, blend=blend)\n",
    "prog.add_joint_move_to(j_wp2, vel=vel, blend=blend)\n",
    "prog.add_joint_move_to(j_wp3, vel=vel, blend=blend)\n",
    "prog.add_joint_move_to(j_wp4, vel=vel, blend=blend)\n",
    "\n",
    "prog_json = prog.program_done()\n",
    "indy.set_and_start_json_program(prog_json)\n",
    "\n",
    "# indy.disconnect()"
   ]
  },
  {
   "cell_type": "code",
   "execution_count": null,
   "metadata": {},
   "outputs": [],
   "source": [
    "# indy.stop_current_program()\n",
    "# indy.pause_current_program()\n",
    "# indy.resume_current_program()"
   ]
  },
  {
   "cell_type": "code",
   "execution_count": null,
   "metadata": {},
   "outputs": [],
   "source": [
    "indy.disconnect()"
   ]
  },
  {
   "cell_type": "markdown",
   "metadata": {},
   "source": [
    "## Make program example-2: Task move with several waypoints\n",
    "### Arguments: \n",
    "* Robot velocity level: 1 - 9\n",
    "* Task move blending radius: 0.02 - 0.2 [mm]"
   ]
  },
  {
   "cell_type": "code",
   "execution_count": null,
   "metadata": {},
   "outputs": [],
   "source": [
    "# Task Move\n",
    "indy.connect()\n",
    "\n",
    "vel = 5\n",
    "blend = 0.2\n",
    "\n",
    "prog = JsonProgramComponent(policy=0, resume_time=2)                \n",
    "prog.add_task_move_to(t_wp1, vel=vel, blend=blend)\n",
    "prog.add_task_move_to(t_wp2, vel=vel, blend=blend)\n",
    "prog.add_task_move_to(t_wp3, vel=vel, blend=blend)\n",
    "prog.add_task_move_to(t_wp4, vel=vel, blend=blend)\n",
    "\n",
    "indy.set_and_start_json_program(prog.program_done())\n",
    "\n",
    "indy.disconnect()"
   ]
  },
  {
   "cell_type": "markdown",
   "metadata": {},
   "source": [
    "## Make program example-3: Use of digital output and tool command\n"
   ]
  },
  {
   "cell_type": "code",
   "execution_count": null,
   "metadata": {},
   "outputs": [],
   "source": [
    "# Simple example\n",
    "indy.connect()\n",
    "\n",
    "vel = 5\n",
    "j_blend = 20\n",
    "t_blend = 0.2\n",
    "\n",
    "prog = JsonProgramComponent(policy=0, resume_time=2)\n",
    "\n",
    "prog.add_move_home()  \n",
    "prog.add_joint_move_to(j_wp1, vel=vel) \n",
    "\n",
    "# Turns on digital output of port indices from 0 to 7 (0: OFF, 1: ON)\n",
    "for idx in range(0, 8):\n",
    "    prog.add_digital_out(idx=idx, val=1)\n",
    "\n",
    "# Wait for set time\n",
    "prog.add_wait(1)\n",
    "\n",
    "# Tool command of tool ID and its command\n",
    "# Tool should be first set up in Conty Application (Setting - Tool)\n",
    "# In Conty,add tool and set application (e.g. Pick & Place)\n",
    "# Edit Hold and Release Output and update the tool (refer the Indy manual)\n",
    "prog.add_endtool_do(type=0, value=0)\n",
    "prog.add_wait(1)\n",
    "prog.add_endtool_do(type=0, value=1)\n",
    "\n",
    "prog.add_task_move_to(t_wp2, vel=vel, blend=t_blend)\n",
    "prog.add_task_move_to(t_wp3, vel=vel, blend=t_blend)\n",
    "prog.add_task_move_to(t_wp4, vel=vel, blend=t_blend)\n",
    "\n",
    "# Turns off digital output of port indices from 0 to 7 (0: OFF, 1: ON)\n",
    "for idx in range(0, 8):\n",
    "    prog.add_digital_out(idx=idx, val=0)\n",
    "\n",
    "prog.add_stop()  # Stop program\n",
    "\n",
    "indy.set_and_start_json_program(prog.program_done())\n",
    "\n",
    "indy.disconnect()"
   ]
  },
  {
   "cell_type": "markdown",
   "metadata": {},
   "source": [
    "## Make program example-4: Sync motion and async motion\n",
    "* **indy.wait_for_program_finish() :** this command can synchronize several robot programs"
   ]
  },
  {
   "cell_type": "code",
   "execution_count": null,
   "metadata": {},
   "outputs": [],
   "source": [
    "# Async and sync example\n",
    "indy.connect()\n",
    "\n",
    "vel = 5\n",
    "blend = 20\n",
    "\n",
    "# Program loop 2 times\n",
    "for i in range(0,2):\n",
    "    # Syncronization with Second program after initail loop\n",
    "    # Wait until Second program is finished with above command (getting postion)\n",
    "    indy.wait_for_program_finish()\n",
    "\n",
    "    # First program\n",
    "    prog = JsonProgramComponent(policy=0, resume_time=2)\n",
    "    prog.add_joint_move_to(j_wp2, vel=vel, blend=blend)\n",
    "    prog.add_move_home()\n",
    "    \n",
    "    indy.set_and_start_json_program(prog.program_done())    \n",
    "    \n",
    "    # Asyncronization with Second program\n",
    "    # Wait until First program is finished, after then below program is executed\n",
    "    indy.wait_for_program_finish()\n",
    "\n",
    "    # Second program\n",
    "    prog = JsonProgramComponent(policy=0, resume_time=2)                \n",
    "    prog.add_task_move_to(t_wp3, vel=vel, blend=blend)\n",
    "    prog.add_move_home()\n",
    "\n",
    "    indy.set_and_start_json_program(prog.program_done())\n",
    "    \n",
    "indy.disconnect()"
   ]
  },
  {
   "cell_type": "markdown",
   "metadata": {},
   "source": [
    "## Make program example-5: Multi-threading for interfacing other devices (buttons, sensors,...)"
   ]
  },
  {
   "cell_type": "code",
   "execution_count": null,
   "metadata": {},
   "outputs": [],
   "source": [
    "indy.connect()"
   ]
  },
  {
   "cell_type": "code",
   "execution_count": null,
   "metadata": {
    "scrolled": true
   },
   "outputs": [],
   "source": [
    "# Global variables\n",
    "GLOBAL_INDICATOR = {'position': True, 'dio': True, 'program': True, 'terminated': False}\n",
    "\n",
    "\n",
    "# Monitoring current robot position at every 1 sec \n",
    "def monitor_robot_position():\n",
    "    global GLOBAL_INDICATOR\n",
    "    while GLOBAL_INDICATOR['position']:\n",
    "        if GLOBAL_INDICATOR['terminated']:\n",
    "            break\n",
    "        sleep(0.1)\n",
    "        j_pos = indy.get_joint_pos()\n",
    "        t_pos = indy.get_task_pos()\n",
    "        print(\"Joint angles: \", j_pos)\n",
    "        print(\"Task pose\", t_pos)        \n",
    "        \n",
    "# Monitoring digital input at every 1 sec \n",
    "def monitor_dio():\n",
    "    global GLOBAL_INDICATOR\n",
    "    while GLOBAL_INDICATOR['dio']:\n",
    "        if GLOBAL_INDICATOR['terminated']:\n",
    "            break\n",
    "        sleep(0.1)\n",
    "        dis = indy.get_di()\n",
    "        \n",
    "        btn1 = dis[1]\n",
    "        btn2 = dis[3]\n",
    "        btn3 = dis[5]\n",
    "        print(\"Button 1/2/3 = [{}, {}, {}]\".format(btn1, btn2, btn3))\n",
    "        if btn1 == 1:\n",
    "            # TODO: implement an action when button1 on\n",
    "            pass\n",
    "        if btn2 == 1:\n",
    "            # TODO: implement an action when button2 on\n",
    "            pass\n",
    "        if btn3 == 1:\n",
    "            # TODO: implement an action when button3 on\n",
    "            pass\n",
    "\n",
    "# Inifinity loop of robot program \n",
    "def run_program():\n",
    "    global GLOBAL_INDICATOR\n",
    "    while GLOBAL_INDICATOR['program']:        \n",
    "        if GLOBAL_INDICATOR['terminated']:\n",
    "            break\n",
    "        \n",
    "        prog = JsonProgramComponent(policy=0, resume_time=2)\n",
    "        \n",
    "        prog.add_move_home()\n",
    "        prog.add_move_zero()\n",
    "        \n",
    "        indy.set_and_start_json_program(prog.program_done())\n",
    "        indy.wait_for_program_finish()\n",
    "        \n",
    "    GLOBAL_INDICATOR['position'] = False\n",
    "    GLOBAL_INDICATOR['dio'] = False\n",
    "    GLOBAL_INDICATOR['program'] = False\n",
    "    \n",
    "        \n",
    "# Create each thread for 'run_program' and 'get_current_position'\n",
    "th1 = threading.Thread(target=run_program)  # thread for 'run_program'\n",
    "th2 = threading.Thread(target=monitor_robot_position)  # thread for 'get_current_position'\n",
    "th3 = threading.Thread(target=monitor_dio)  # thread for 'get_current_position'\n",
    "\n",
    "th3.start()\n",
    "th2.start()\n",
    "th1.start()"
   ]
  },
  {
   "cell_type": "code",
   "execution_count": null,
   "metadata": {
    "scrolled": true
   },
   "outputs": [],
   "source": [
    "# Stop above program\n",
    "indy.stop_motion()\n",
    "\n",
    "GLOBAL_INDICATOR['position'] = False\n",
    "GLOBAL_INDICATOR['dio'] = False\n",
    "GLOBAL_INDICATOR['program'] = False\n",
    "GLOBAL_INDICATOR['terminated'] = True"
   ]
  },
  {
   "cell_type": "code",
   "execution_count": null,
   "metadata": {},
   "outputs": [],
   "source": [
    "indy.disconnect()"
   ]
  },
  {
   "cell_type": "markdown",
   "metadata": {},
   "source": [
    "## Other functions: Direct variables"
   ]
  },
  {
   "cell_type": "code",
   "execution_count": null,
   "metadata": {},
   "outputs": [],
   "source": [
    "# Simple variable assignment example\n",
    "indy.connect()\n",
    "\n",
    "# Variables\n",
    "var_name=[\"ab\",\"bc\",\"ca\"]\n",
    "var_value=[1,2,3]\n",
    "var_type=[1,1,1]\n",
    "\n",
    "prog = JsonProgramComponent(policy=0, resume_time=2, var_name=var_name, var_value=var_value, var_type=var_type)\n",
    "\n",
    "prog.add_move_zero()\n",
    "prog.add_var_assign(name=\"ab\", val=100, type=1)  # Variable declaration\n",
    "prog.add_analog_out(idx=0, val=0)\n",
    "\n",
    "prog.add_wait_for(time=3, left_type=10, left_value=\"ab\", right_type=1, right_value=100, op=0)  # Wait for variable assigned to other value\n",
    "prog.add_move_home()\n",
    "\n",
    "indy.set_and_start_json_program(prog.program_done())\n",
    "\n",
    "indy.disconnect()"
   ]
  },
  {
   "cell_type": "markdown",
   "metadata": {},
   "source": [
    "# Practice now ! "
   ]
  }
 ],
 "metadata": {
  "kernelspec": {
   "display_name": "Python 3",
   "language": "python",
   "name": "python3"
  },
  "language_info": {
   "codemirror_mode": {
    "name": "ipython",
    "version": 3
   },
   "file_extension": ".py",
   "mimetype": "text/x-python",
   "name": "python",
   "nbconvert_exporter": "python",
   "pygments_lexer": "ipython3",
   "version": "3.7.4"
  },
  "pycharm": {
   "stem_cell": {
    "cell_type": "raw",
    "metadata": {
     "collapsed": false
    },
    "source": []
   }
  }
 },
 "nbformat": 4,
 "nbformat_minor": 2
}